{
 "cells": [
  {
   "cell_type": "code",
   "execution_count": 30,
   "metadata": {},
   "outputs": [
    {
     "name": "stdout",
     "output_type": "stream",
     "text": [
      "--instance /home/fatima/Downloads/toDrive/AI 2024-2025/instances/abz5 --optimum 1234"
     ]
    },
    {
     "data": {
      "text/plain": [
       "84"
      ]
     },
     "execution_count": 30,
     "metadata": {},
     "output_type": "execute_result"
    }
   ],
   "source": [
    "# coding: utf-8\n",
    "\n",
    "import os\n",
    "import sys\n",
    "import json\n",
    "import math\n",
    "import numpy as np\n",
    "\n",
    "Target = 'abz5'\n",
    "\n",
    "file = open('./instances.json', \"r\" )\n",
    "data = json.load(file)\n",
    "\n",
    "instance = [ inst for inst in data if inst['name'] == Target ]\n",
    "if(len(instance) == 0):\n",
    "    raise Exception(\"There is no instance named %s\" % Target)\n",
    "\n",
    "instance = instance[0]\n",
    "path = os.path.abspath(\"../%s\" % instance['path'])\n",
    "optimum = instance['optimum']\n",
    "\n",
    "if( optimum is None ):\n",
    "    if( instance['bounds'] is None ):\n",
    "        optimum = \"nan\"\n",
    "    else:\n",
    "        optimum = instance['bounds']['lower']\n",
    "\n",
    "sys.stdout.write('--instance %s --optimum %s' % (path,optimum))"
   ]
  },
  {
   "cell_type": "code",
   "execution_count": 31,
   "metadata": {},
   "outputs": [
    {
     "data": {
      "text/plain": [
       "{'name': 'abz5',\n",
       " 'jobs': 10,\n",
       " 'machines': 10,\n",
       " 'optimum': 1234,\n",
       " 'path': 'instances/abz5'}"
      ]
     },
     "execution_count": 31,
     "metadata": {},
     "output_type": "execute_result"
    }
   ],
   "source": [
    "instance"
   ]
  },
  {
   "cell_type": "code",
   "execution_count": 32,
   "metadata": {},
   "outputs": [],
   "source": [
    "job_times = [[2, 1, 3], [4, 2, 1], [3, 3, 2]] # [0, 1, 2, 3, 4, 5, 6 ,7, 8] (how represented in the solution, flatten and re-enumerated)\n",
    "# job 0: [2, 1, 3]\n",
    "# Machine 1: 2, index 0 in the solution\n",
    "# Machine 2: 1  index 1 in the solution\n",
    "# Machine 3: 3  index 2 in the solution\n",
    "# etc. same for the others"
   ]
  },
  {
   "cell_type": "code",
   "execution_count": 33,
   "metadata": {},
   "outputs": [
    {
     "name": "stdout",
     "output_type": "stream",
     "text": [
      "['#+++++++++++++++++++++++++++++', '# instance abz5', '#+++++++++++++++++++++++++++++', '# Adams, Balas, and Zawack 10x10 instance (Table 1, instance 5)', '10 10', '4 88 8 68 6 94 5 99 1 67 2 89 9 77 7 99 0 86 3 92', '5 72 3 50 6 69 4 75 2 94 8 66 0 92 1 82 7 94 9 63', '9 83 8 61 0 83 1 65 6 64 5 85 7 78 4 85 2 55 3 77', '7 94 2 68 1 61 4 99 3 54 6 75 5 66 0 76 9 63 8 67', '3 69 4 88 9 82 8 95 0 99 2 67 6 95 5 68 7 67 1 86', '1 99 4 81 5 64 6 66 8 80 2 80 7 69 9 62 3 79 0 88', '7 50 1 86 4 97 3 96 0 95 8 97 2 66 5 99 6 52 9 71', '4 98 6 73 3 82 2 51 1 71 5 94 7 85 0 62 8 95 9 79', '0 94 6 71 3 81 7 85 1 66 2 90 4 76 5 58 8 93 9 97', '3 50 0 59 1 82 8 67 7 56 9 96 6 58 4 81 5 59 2 96']\n"
     ]
    },
    {
     "data": {
      "text/plain": [
       "(['4 88 8 68 6 94 5 99 1 67 2 89 9 77 7 99 0 86 3 92',\n",
       "  '5 72 3 50 6 69 4 75 2 94 8 66 0 92 1 82 7 94 9 63',\n",
       "  '9 83 8 61 0 83 1 65 6 64 5 85 7 78 4 85 2 55 3 77',\n",
       "  '7 94 2 68 1 61 4 99 3 54 6 75 5 66 0 76 9 63 8 67',\n",
       "  '3 69 4 88 9 82 8 95 0 99 2 67 6 95 5 68 7 67 1 86',\n",
       "  '1 99 4 81 5 64 6 66 8 80 2 80 7 69 9 62 3 79 0 88',\n",
       "  '7 50 1 86 4 97 3 96 0 95 8 97 2 66 5 99 6 52 9 71',\n",
       "  '4 98 6 73 3 82 2 51 1 71 5 94 7 85 0 62 8 95 9 79',\n",
       "  '0 94 6 71 3 81 7 85 1 66 2 90 4 76 5 58 8 93 9 97',\n",
       "  '3 50 0 59 1 82 8 67 7 56 9 96 6 58 4 81 5 59 2 96'],\n",
       " 10)"
      ]
     },
     "execution_count": 33,
     "metadata": {},
     "output_type": "execute_result"
    }
   ],
   "source": [
    "path_file = './instances/abz5'\n",
    "\n",
    "# read raw data\n",
    "with open(path_file) as f_o:\n",
    "    data = f_o.read()\n",
    "    lines = data.splitlines()\n",
    "    print(lines)\n",
    "\n",
    "jobs = np.zeros((10, 10))\n",
    "lines = lines[5:]\n",
    "lines, len(lines)"
   ]
  },
  {
   "cell_type": "code",
   "execution_count": 39,
   "metadata": {},
   "outputs": [
    {
     "data": {
      "text/plain": [
       "array([[86., 67., 89., 92., 88., 99., 94., 99., 68., 77.],\n",
       "       [92., 82., 94., 50., 75., 72., 69., 94., 66., 63.],\n",
       "       [83., 65., 55., 77., 85., 85., 64., 78., 61., 83.],\n",
       "       [76., 61., 68., 54., 99., 66., 75., 94., 67., 63.],\n",
       "       [99., 86., 67., 69., 88., 68., 95., 67., 95., 82.],\n",
       "       [88., 99., 80., 79., 81., 64., 66., 69., 80., 62.],\n",
       "       [95., 86., 66., 96., 97., 99., 52., 50., 97., 71.],\n",
       "       [62., 71., 51., 82., 98., 94., 73., 85., 95., 79.],\n",
       "       [94., 66., 90., 81., 76., 58., 71., 85., 93., 97.],\n",
       "       [50., 59., 82., 67., 56., 96., 58., 81., 59., 96.]])"
      ]
     },
     "execution_count": 39,
     "metadata": {},
     "output_type": "execute_result"
    }
   ],
   "source": [
    "for i in range(len(lines)-1):\n",
    "    line = lines[i].split(' ')\n",
    "    line = [int(num) for num in line]\n",
    "    for j in range(0, len(line) -1 , 2):\n",
    "        jobs[i][line[j]] = int(line[j+1])\n",
    "    \n",
    "jobs"
   ]
  },
  {
   "cell_type": "code",
   "execution_count": 37,
   "metadata": {},
   "outputs": [],
   "source": [
    "for i in range(len(lines)):\n",
    "    line = lines[i].split(' ')\n",
    "    line = [int(num) for num in line]\n",
    "    jobs[i] = line[1::2]"
   ]
  },
  {
   "cell_type": "code",
   "execution_count": 38,
   "metadata": {},
   "outputs": [
    {
     "data": {
      "text/plain": [
       "array([[88., 68., 94., 99., 67., 89., 77., 99., 86., 92.],\n",
       "       [72., 50., 69., 75., 94., 66., 92., 82., 94., 63.],\n",
       "       [83., 61., 83., 65., 64., 85., 78., 85., 55., 77.],\n",
       "       [94., 68., 61., 99., 54., 75., 66., 76., 63., 67.],\n",
       "       [69., 88., 82., 95., 99., 67., 95., 68., 67., 86.],\n",
       "       [99., 81., 64., 66., 80., 80., 69., 62., 79., 88.],\n",
       "       [50., 86., 97., 96., 95., 97., 66., 99., 52., 71.],\n",
       "       [98., 73., 82., 51., 71., 94., 85., 62., 95., 79.],\n",
       "       [94., 71., 81., 85., 66., 90., 76., 58., 93., 97.],\n",
       "       [50., 59., 82., 67., 56., 96., 58., 81., 59., 96.]])"
      ]
     },
     "execution_count": 38,
     "metadata": {},
     "output_type": "execute_result"
    }
   ],
   "source": [
    "jobs"
   ]
  },
  {
   "cell_type": "code",
   "execution_count": null,
   "metadata": {},
   "outputs": [],
   "source": [
    "optimum"
   ]
  },
  {
   "cell_type": "code",
   "execution_count": 14,
   "metadata": {},
   "outputs": [],
   "source": [
    "from job_shop_lib.benchmarking import (\n",
    "    load_all_benchmark_instances,\n",
    "    load_benchmark_instance,\n",
    ")"
   ]
  },
  {
   "cell_type": "code",
   "execution_count": null,
   "metadata": {},
   "outputs": [],
   "source": [
    "benchmark_instances = load_all_benchmark_instances()\n",
    "benchmark_instances"
   ]
  },
  {
   "cell_type": "code",
   "execution_count": 18,
   "metadata": {},
   "outputs": [],
   "source": [
    "abz5 = load_benchmark_instance(\"abz5\")"
   ]
  },
  {
   "cell_type": "code",
   "execution_count": null,
   "metadata": {},
   "outputs": [],
   "source": [
    "abz5.metadata"
   ]
  },
  {
   "cell_type": "code",
   "execution_count": null,
   "metadata": {},
   "outputs": [],
   "source": [
    "abz5.jobs"
   ]
  },
  {
   "cell_type": "code",
   "execution_count": null,
   "metadata": {},
   "outputs": [],
   "source": []
  }
 ],
 "metadata": {
  "kernelspec": {
   "display_name": "Python 3",
   "language": "python",
   "name": "python3"
  },
  "language_info": {
   "codemirror_mode": {
    "name": "ipython",
    "version": 3
   },
   "file_extension": ".py",
   "mimetype": "text/x-python",
   "name": "python",
   "nbconvert_exporter": "python",
   "pygments_lexer": "ipython3",
   "version": "3.10.12"
  }
 },
 "nbformat": 4,
 "nbformat_minor": 2
}
