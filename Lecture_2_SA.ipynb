{
 "cells": [
  {
   "attachments": {},
   "cell_type": "markdown",
   "metadata": {},
   "source": [
    "## Artificial Intelligence (BSc) SA 2025-2026\n",
    "\n",
    "- Prof. Luca Gambardella\n",
    "- Fatima Ezzeddine ([`fatima.ezzeddine@usi.ch`](mailto:fatima.ezzeddine@usi.ch))<br>\n",
    "\n",
    "---\n",
    "\n",
    "## 2th Lab\n",
    "\n",
    "What we are going to do today:\n",
    "- Simluated Annealing algorithm from scratch and using Mealpy"
   ]
  },
  {
   "attachments": {},
   "cell_type": "markdown",
   "metadata": {
    "id": "ggPRrA_kny4Y"
   },
   "source": [
    "### Simulated Annealing from Scratch\n"
   ]
  },
  {
   "cell_type": "code",
   "execution_count": null,
   "metadata": {
    "ExecuteTime": {
     "end_time": "2024-10-14T07:58:56.059192Z",
     "start_time": "2024-10-14T07:58:55.398577Z"
    },
    "id": "ZYmsIo2fny4Y"
   },
   "outputs": [],
   "source": [
    "import numpy as np\n",
    "\n",
    "from utils import compute_length, ProblemInstance, SolverTSP\n",
    "\n",
    "def sa_swap2opt(tsp_sequence, i, j):\n",
    "    new_tsp_sequence = np.copy(tsp_sequence)\n",
    "    new_tsp_sequence[i:j + 1] = np.flip(tsp_sequence[i:j + 1], axis=0)  # flip or swap ?\n",
    "    return new_tsp_sequence\n",
    "\n",
    "def gain(i, j, tsp_sequence, matrix_dist):\n",
    "    #TODO\n",
    "    return - old_link_len + changed_links_len\n",
    "\n",
    "# genrate a random solution that is neighbor to the exisitng solution\n",
    "def random_sol_from_neigh(solution, instance):\n",
    "    # generate 2 random i and j\n",
    "    i, j = np.random.choice(np.arange(1, len(solution) - 1), 2, replace=False)\n",
    "    # sort i and j\n",
    "    i, j = np.sort([i, j])\n",
    "    solution = np.roll(solution, np.random.randint(len(solution)))\n",
    "    # do an 2opt swap based on the 2 random i an j generated, and compute the gain of this 2opt\n",
    "    return sa_swap2opt(solution, i, j), gain(i, j, solution, instance.dist_matrix)\n",
    "\n",
    "\n",
    "def sa(solution, instance, constant_temperature=0.95, iterations_for_each_temp=100):\n",
    "    # initial setup\n",
    "    # initialize the temperature T = tmax\n",
    "    temperature = instance.best_sol / np.sqrt(instance.nPoints)\n",
    "\n",
    "    # initializing initial solution and len (x)\n",
    "    current_sol = np.array(solution)\n",
    "    # initial energey of x, E(x), energy is the tour lenght\n",
    "    current_len = compute_length(solution, instance.dist_matrix)\n",
    "\n",
    "    # variables to save the best sol\n",
    "    best_sol = np.array(solution)\n",
    "    best_len = current_len\n",
    "    # main loop\n",
    "    while temperature > 0.001: # lowest accepted temeperature, T > Tmin and E > Eth\n",
    "        # TODO\n",
    "        # equilibrium for the current temperature, or specify max iteration for each temperature\n",
    "        for it in range(iterations_for_each_temp):\n",
    "            # generate new candidate solution from neighbors\n",
    "            next_sol, delta_E = random_sol_from_neigh(current_sol, instance)\n",
    "            # if neighbor solution is an improvment: accept it and save it in current and best solution variables\n",
    "            if delta_E < 0:\n",
    "                current_sol = next_sol\n",
    "                current_len += delta_E\n",
    "                if current_len < best_len:\n",
    "                    best_sol = current_sol\n",
    "                    best_len = current_len\n",
    "            else: # neighbor solution is not an improvment: compute exp(-deltaE/T) and generate a random number r in range [0, 1] and decide if accept it or not\n",
    "                r = np.random.uniform(0, 1)\n",
    "                if r < np.exp(- delta_E / temperature):\n",
    "                    current_sol = next_sol\n",
    "                    current_len += delta_E\n",
    "\n",
    "        # decrease temperature\n",
    "        temperature *= constant_temperature\n",
    "    # END TODO\n",
    "    # return best tour solution\n",
    "    return best_sol.tolist()"
   ]
  },
  {
   "cell_type": "code",
   "execution_count": null,
   "metadata": {
    "ExecuteTime": {
     "end_time": "2024-10-14T08:01:28.972838Z",
     "start_time": "2024-10-14T08:01:26.604228Z"
    }
   },
   "outputs": [],
   "source": [
    "from time import time as t\n",
    "\n",
    "\n",
    "def random_method(instance_):\n",
    "    return np.random.choice(np.arange(instance_.nPoints), size=instance_.nPoints,\n",
    "                            replace=False)\n",
    "\n",
    "available_solvers = {\n",
    "    \"random\": random_method,\n",
    "}\n",
    "\n",
    "example_problem = \"./problems/eil76.tsp\"\n",
    "p_inst = ProblemInstance(example_problem)\n",
    "\n",
    "solver = SolverTSP(\"random\", p_inst, available_solvers)\n",
    "start = t()\n",
    "solver.compute_solution(return_value=False, verbose=True)\n",
    "end = t()\n",
    "\n",
    "initial_solution = solver.solution\n",
    "\n",
    "solver.plot_solution()\n",
    "print(f\"best solution with len {solver.found_length} \\nwith a total time of {np.round(end - start, 5)} seconds\")\n",
    "print(f\"solution found has a {solver.gap} % gap\")\n",
    "\n",
    "start = t()\n",
    "solution = sa(solver.solution, p_inst)\n",
    "end = t()\n",
    "print(end -  start)\n",
    "solver.method = \"SA\"\n",
    "\n",
    "#assert solver.pass_and_check_if_solution_is_valid(solution), \"Solution non valid\"\n",
    "solver.solved = True\n",
    "solver.solution = solution\n",
    "solver.plot_solution()\n",
    "solver._gap()\n",
    "print(f\"SA {solver.gap} % gap\")"
   ]
  },
  {
   "cell_type": "markdown",
   "metadata": {},
   "source": [
    "### Simulated Annealing with Mealpy"
   ]
  },
  {
   "cell_type": "code",
   "execution_count": null,
   "metadata": {
    "ExecuteTime": {
     "end_time": "2024-10-14T08:22:45.678769Z",
     "start_time": "2024-10-14T08:22:45.671035Z"
    }
   },
   "outputs": [],
   "source": [
    "# generate a random solution that is neighbor to the existng solution\n",
    "def random_sol_from_neigh_mealpy(solution):\n",
    "    # generate 2 random i and j\n",
    "    i, j = np.random.choice(np.arange(1, len(solution) - 1), 2, replace=False)\n",
    "    # sort i and j\n",
    "    i, j = np.sort([i, j])\n",
    "    solution = np.roll(solution, np.random.randint(len(solution)))\n",
    "    # do an 2opt swap based on the 2 random i an j generated, and compute the gain of this 2opt\n",
    "    return sa_swap2opt(solution, i, j)\n",
    "\n",
    "def compute_gap(optimal, best_found):\n",
    "    return np.round(((best_found - optimal) / optimal) * 100, 2)"
   ]
  },
  {
   "cell_type": "code",
   "execution_count": null,
   "metadata": {
    "ExecuteTime": {
     "end_time": "2024-10-14T08:22:46.019814Z",
     "start_time": "2024-10-14T08:22:46.014671Z"
    }
   },
   "outputs": [],
   "source": [
    "import mealpy\n",
    "print(mealpy.__version__)"
   ]
  },
  {
   "cell_type": "code",
   "execution_count": null,
   "metadata": {},
   "outputs": [],
   "source": [
    "import sys\n",
    "!{sys.executable} -m pip install mealpy"
   ]
  },
  {
   "cell_type": "code",
   "execution_count": null,
   "metadata": {
    "ExecuteTime": {
     "end_time": "2024-10-14T08:29:49.328003Z",
     "start_time": "2024-10-14T08:29:49.303696Z"
    }
   },
   "outputs": [],
   "source": [
    "from mealpy import PermutationVar, Problem, SA\n",
    "from mealpy.utils.agent import Agent\n",
    "\n",
    "# Define the positions of the cities\n",
    "# city_positions = np.array([[60, 200], [180, 200], [80, 180], [140, 180], [20, 160],\n",
    "#                            [100, 160], [200, 160], [140, 140], [40, 120], [100, 120],\n",
    "#                            [180, 100], [60, 80], [120, 80], [180, 60], [20, 40],\n",
    "#                            [100, 40], [200, 40], [20, 20], [60, 20], [160, 20]])\n",
    "\n",
    "\n",
    "city_positions = p_inst.points[:, 1:3]\n",
    "\n",
    "num_cities = len(city_positions)\n",
    "data = {\n",
    "    \"city_positions\": city_positions,\n",
    "    \"num_cities\": num_cities,\n",
    "}\n",
    "\n",
    "class TspProblem(Problem):\n",
    "    def __init__(self, bounds=None, minmax=\"min\", data=None, **kwargs):\n",
    "        self.data = data\n",
    "        super().__init__(bounds, minmax, **kwargs)\n",
    "        \n",
    "                \n",
    "    @staticmethod\n",
    "    def calculate_distance(city_a, city_b):\n",
    "        rounding = 0\n",
    "        x_i, y_i = city_a[0], city_a[1]\n",
    "        x_j, y_j = city_b[0], city_b[1]\n",
    "        # use the numpy sqrt method\n",
    "        distance = np.sqrt((x_i - x_j) ** 2 + (y_i - y_j) ** 2)\n",
    "        return round(distance, rounding)\n",
    "\n",
    "    @staticmethod\n",
    "    def calculate_total_distance(route, city_positions):\n",
    "        # Calculate total distance of a route\n",
    "        total_distance = 0\n",
    "        num_cities = len(route)\n",
    "        for idx in range(num_cities):\n",
    "            current_city = int(route[idx])\n",
    "            next_city = int(route[(idx + 1) % num_cities])  # Wrap around to the first city\n",
    "            total_distance += TspProblem.calculate_distance(city_positions[current_city], city_positions[next_city])\n",
    "        return total_distance\n",
    "\n",
    "    def obj_func(self, x):\n",
    "        route = x\n",
    "        fitness = self.calculate_total_distance(route, self.data[\"city_positions\"])\n",
    "        return fitness\n",
    "\n",
    "\n",
    "# Custom Simulated Annealing class\n",
    "class CustomTSPSA(SA.OriginalSA):\n",
    "    \n",
    "    def __init__(self, epoch: int = 10000, pop_size: int = 2, temp_init: float = 100, step_size: float = 0.1,\n",
    "                 **kwargs: object):\n",
    "        super().__init__(epoch, pop_size, temp_init, step_size)\n",
    "\n",
    "    \n",
    "    def initialize_variables(self):\n",
    "        print('Initializing TSP Agents...')\n",
    "        self.g_best = Agent()\n",
    "        self.g_best.solution = np.array(initial_solution)\n",
    "        self.g_best.target = self.problem.get_target(self.g_best.solution)\n",
    "\n",
    "        \n",
    "    def generate_agent(self, solution: np.ndarray = None) -> Agent:\n",
    "        \"\"\"\n",
    "        Generate new agent with full information\n",
    "\n",
    "        Args:\n",
    "            solution (np.ndarray): The solution\n",
    "        \"\"\"\n",
    "        if solution is None:\n",
    "            print('Initializing TSP solution...')\n",
    "            solution = initial_solution\n",
    "            agent = Agent(solution=solution, target=self.problem.get_target(solution))\n",
    "            return agent\n",
    "                \n",
    "        agent = Agent(solution=solution, target=self.problem.get_target(solution))\n",
    "           \n",
    "        agent.solution = random_sol_from_neigh_mealpy(solution)\n",
    "        agent.target = problem.get_target(agent.solution)\n",
    "        return agent\n",
    "    \n",
    "    \n",
    "    def evolve(self, epoch):\n",
    "        \"\"\"\n",
    "        The main operations (equations) of algorithm. Inherit from Optimizer class\n",
    "\n",
    "        Args:\n",
    "            epoch (int): The current iteration\n",
    "        \"\"\"\n",
    "        # Perturb the current solution\n",
    "        agent = self.generate_agent(self.agent_current.solution)\n",
    "        # Accept or reject the new solution\n",
    "        if self.compare_target(agent.target, self.agent_current.target, self.problem.minmax):\n",
    "            self.agent_current = agent\n",
    "        else:\n",
    "            # Calculate the energy difference\n",
    "            delta_energy = np.abs(self.agent_current.target.fitness - agent.target.fitness)\n",
    "            # calculate probability acceptance criterion\n",
    "            p_accept = np.exp(-delta_energy/ (self.temp_init / float(epoch + 1)))\n",
    "            if self.generator.random() < p_accept:\n",
    "                self.agent_current = agent\n",
    "                \n",
    "        self.pop = [self.g_best.copy(), self.agent_current.copy()]"
   ]
  },
  {
   "cell_type": "code",
   "execution_count": null,
   "metadata": {
    "ExecuteTime": {
     "end_time": "2024-10-14T08:31:08.953033Z",
     "start_time": "2024-10-14T08:31:05.111480Z"
    }
   },
   "outputs": [],
   "source": [
    "bounds = PermutationVar(valid_set=list(range(0, num_cities)), name=\"per_var\")\n",
    "problem = TspProblem(bounds=bounds, minmax=\"min\", data=data)\n",
    "\n",
    "model = CustomTSPSA(epoch=1500, pop_size=2, temp_init = 100, step_size = 0.01)\n",
    "\n",
    "g_best = model.solve(problem)\n",
    "\n",
    "print(f\"Solution: {g_best.solution}, Fitness: {g_best.target.fitness}\")\n",
    "print(f\"Solution: {model.g_best.solution}, Fitness: {model.g_best.target.fitness}\")\n",
    "\n",
    "print(f\"Best agent: {model.g_best}\")                    # Encoded solution\n",
    "print(f\"Best solution: {model.g_best.solution}\")        # Encoded solution\n",
    "print(f\"Best fitness: {model.g_best.target.fitness}\")\n",
    "print(f\"Best real scheduling: {model.problem.decode_solution(model.g_best.solution)}\")      # Decoded (Real) solution"
   ]
  },
  {
   "cell_type": "code",
   "execution_count": null,
   "metadata": {
    "ExecuteTime": {
     "end_time": "2024-10-14T08:31:41.696073Z",
     "start_time": "2024-10-14T08:31:41.687318Z"
    }
   },
   "outputs": [],
   "source": [
    "gap = compute_gap(p_inst.best_sol, model.g_best.target.fitness)\n",
    "gap"
   ]
  },
  {
   "cell_type": "code",
   "execution_count": null,
   "metadata": {
    "ExecuteTime": {
     "end_time": "2024-10-14T08:31:42.393609Z",
     "start_time": "2024-10-14T08:31:42.385237Z"
    }
   },
   "outputs": [],
   "source": [
    "model.g_best.target.fitness, p_inst.best_sol"
   ]
  },
  {
   "cell_type": "code",
   "execution_count": null,
   "metadata": {},
   "outputs": [],
   "source": []
  }
 ],
 "metadata": {
  "colab": {
   "provenance": []
  },
  "kernelspec": {
   "display_name": "Python 3 (ipykernel)",
   "language": "python",
   "name": "python3"
  },
  "language_info": {
   "codemirror_mode": {
    "name": "ipython",
    "version": 3
   },
   "file_extension": ".py",
   "mimetype": "text/x-python",
   "name": "python",
   "nbconvert_exporter": "python",
   "pygments_lexer": "ipython3",
   "version": "3.8.7"
  }
 },
 "nbformat": 4,
 "nbformat_minor": 0
}
